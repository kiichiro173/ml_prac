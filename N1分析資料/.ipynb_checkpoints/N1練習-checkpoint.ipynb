{
 "cells": [
  {
   "cell_type": "code",
   "execution_count": 17,
   "id": "9420f646-e5ed-48dd-8ca6-4f911ffc3a18",
   "metadata": {},
   "outputs": [
    {
     "name": "stdout",
     "output_type": "stream",
     "text": [
      "Requirement already satisfied: lxml in /usr/local/lib/python3.8/site-packages (5.2.2)\n",
      "\u001b[33mWARNING: Running pip as the 'root' user can result in broken permissions and conflicting behaviour with the system package manager. It is recommended to use a virtual environment instead: https://pip.pypa.io/warnings/venv\u001b[0m\u001b[33m\n",
      "\u001b[0m\n",
      "\u001b[1m[\u001b[0m\u001b[34;49mnotice\u001b[0m\u001b[1;39;49m]\u001b[0m\u001b[39;49m A new release of pip is available: \u001b[0m\u001b[31;49m23.3\u001b[0m\u001b[39;49m -> \u001b[0m\u001b[32;49m24.0\u001b[0m\n",
      "\u001b[1m[\u001b[0m\u001b[34;49mnotice\u001b[0m\u001b[1;39;49m]\u001b[0m\u001b[39;49m To update, run: \u001b[0m\u001b[32;49mpip install --upgrade pip\u001b[0m\n"
     ]
    }
   ],
   "source": [
    "!pip install lxml"
   ]
  },
  {
   "cell_type": "code",
   "execution_count": 31,
   "id": "6f18d268-c79e-40f6-8214-f98bc5fd9d8a",
   "metadata": {},
   "outputs": [
    {
     "name": "stdout",
     "output_type": "stream",
     "text": [
      "Collecting mecab-python3\n",
      "  Downloading mecab_python3-1.0.9-cp38-cp38-manylinux_2_17_x86_64.manylinux2014_x86_64.whl.metadata (6.1 kB)\n",
      "Downloading mecab_python3-1.0.9-cp38-cp38-manylinux_2_17_x86_64.manylinux2014_x86_64.whl (577 kB)\n",
      "\u001b[2K   \u001b[90m━━━━━━━━━━━━━━━━━━━━━━━━━━━━━━━━━━━━━━━━\u001b[0m \u001b[32m577.8/577.8 kB\u001b[0m \u001b[31m7.2 MB/s\u001b[0m eta \u001b[36m0:00:00\u001b[0m00:01\u001b[0m00:01\u001b[0m\n",
      "\u001b[?25hInstalling collected packages: mecab-python3\n",
      "Successfully installed mecab-python3-1.0.9\n",
      "\u001b[33mWARNING: Running pip as the 'root' user can result in broken permissions and conflicting behaviour with the system package manager. It is recommended to use a virtual environment instead: https://pip.pypa.io/warnings/venv\u001b[0m\u001b[33m\n",
      "\u001b[0m"
     ]
    }
   ],
   "source": [
    "!pip install mecab-python3"
   ]
  },
  {
   "cell_type": "code",
   "execution_count": 13,
   "id": "b50190ff-a2c9-4ca6-803f-998833942f0b",
   "metadata": {},
   "outputs": [
    {
     "name": "stdout",
     "output_type": "stream",
     "text": [
      "Collecting selenium\n",
      "  Downloading selenium-4.21.0-py3-none-any.whl.metadata (6.9 kB)\n",
      "Requirement already satisfied: urllib3<3,>=1.26 in /usr/local/lib/python3.8/site-packages (from urllib3[socks]<3,>=1.26->selenium) (2.0.7)\n",
      "Collecting trio~=0.17 (from selenium)\n",
      "  Downloading trio-0.25.1-py3-none-any.whl.metadata (8.7 kB)\n",
      "Collecting trio-websocket~=0.9 (from selenium)\n",
      "  Downloading trio_websocket-0.11.1-py3-none-any.whl.metadata (4.7 kB)\n",
      "Requirement already satisfied: certifi>=2021.10.8 in /usr/local/lib/python3.8/site-packages (from selenium) (2023.7.22)\n",
      "Collecting typing_extensions>=4.9.0 (from selenium)\n",
      "  Downloading typing_extensions-4.11.0-py3-none-any.whl.metadata (3.0 kB)\n",
      "Collecting attrs>=23.2.0 (from trio~=0.17->selenium)\n",
      "  Downloading attrs-23.2.0-py3-none-any.whl.metadata (9.5 kB)\n",
      "Collecting sortedcontainers (from trio~=0.17->selenium)\n",
      "  Downloading sortedcontainers-2.4.0-py2.py3-none-any.whl.metadata (10 kB)\n",
      "Requirement already satisfied: idna in /usr/local/lib/python3.8/site-packages (from trio~=0.17->selenium) (3.4)\n",
      "Collecting outcome (from trio~=0.17->selenium)\n",
      "  Downloading outcome-1.3.0.post0-py2.py3-none-any.whl.metadata (2.6 kB)\n",
      "Requirement already satisfied: sniffio>=1.3.0 in /usr/local/lib/python3.8/site-packages (from trio~=0.17->selenium) (1.3.0)\n",
      "Requirement already satisfied: exceptiongroup in /usr/local/lib/python3.8/site-packages (from trio~=0.17->selenium) (1.1.3)\n",
      "Collecting wsproto>=0.14 (from trio-websocket~=0.9->selenium)\n",
      "  Downloading wsproto-1.2.0-py3-none-any.whl.metadata (5.6 kB)\n",
      "Collecting pysocks!=1.5.7,<2.0,>=1.5.6 (from urllib3[socks]<3,>=1.26->selenium)\n",
      "  Downloading PySocks-1.7.1-py3-none-any.whl.metadata (13 kB)\n",
      "Collecting h11<1,>=0.9.0 (from wsproto>=0.14->trio-websocket~=0.9->selenium)\n",
      "  Downloading h11-0.14.0-py3-none-any.whl.metadata (8.2 kB)\n",
      "Downloading selenium-4.21.0-py3-none-any.whl (9.5 MB)\n",
      "\u001b[2K   \u001b[90m━━━━━━━━━━━━━━━━━━━━━━━━━━━━━━━━━━━━━━━━\u001b[0m \u001b[32m9.5/9.5 MB\u001b[0m \u001b[31m9.3 MB/s\u001b[0m eta \u001b[36m0:00:00\u001b[0m00:01\u001b[0m00:01\u001b[0mm\n",
      "\u001b[?25hDownloading trio-0.25.1-py3-none-any.whl (467 kB)\n",
      "\u001b[2K   \u001b[90m━━━━━━━━━━━━━━━━━━━━━━━━━━━━━━━━━━━━━━━━\u001b[0m \u001b[32m467.7/467.7 kB\u001b[0m \u001b[31m8.1 MB/s\u001b[0m eta \u001b[36m0:00:00\u001b[0ma \u001b[36m0:00:01\u001b[0m\n",
      "\u001b[?25hDownloading trio_websocket-0.11.1-py3-none-any.whl (17 kB)\n",
      "Downloading typing_extensions-4.11.0-py3-none-any.whl (34 kB)\n",
      "Downloading attrs-23.2.0-py3-none-any.whl (60 kB)\n",
      "\u001b[2K   \u001b[90m━━━━━━━━━━━━━━━━━━━━━━━━━━━━━━━━━━━━━━━━\u001b[0m \u001b[32m60.8/60.8 kB\u001b[0m \u001b[31m9.3 MB/s\u001b[0m eta \u001b[36m0:00:00\u001b[0m\n",
      "\u001b[?25hDownloading PySocks-1.7.1-py3-none-any.whl (16 kB)\n",
      "Downloading wsproto-1.2.0-py3-none-any.whl (24 kB)\n",
      "Downloading outcome-1.3.0.post0-py2.py3-none-any.whl (10 kB)\n",
      "Downloading sortedcontainers-2.4.0-py2.py3-none-any.whl (29 kB)\n",
      "Downloading h11-0.14.0-py3-none-any.whl (58 kB)\n",
      "\u001b[2K   \u001b[90m━━━━━━━━━━━━━━━━━━━━━━━━━━━━━━━━━━━━━━━━\u001b[0m \u001b[32m58.3/58.3 kB\u001b[0m \u001b[31m6.7 MB/s\u001b[0m eta \u001b[36m0:00:00\u001b[0m\n",
      "\u001b[?25hInstalling collected packages: sortedcontainers, typing_extensions, pysocks, h11, attrs, wsproto, outcome, trio, trio-websocket, selenium\n",
      "  Attempting uninstall: typing_extensions\n",
      "    Found existing installation: typing_extensions 4.8.0\n",
      "    Uninstalling typing_extensions-4.8.0:\n",
      "      Successfully uninstalled typing_extensions-4.8.0\n",
      "  Attempting uninstall: attrs\n",
      "    Found existing installation: attrs 23.1.0\n",
      "    Uninstalling attrs-23.1.0:\n",
      "      Successfully uninstalled attrs-23.1.0\n",
      "Successfully installed attrs-23.2.0 h11-0.14.0 outcome-1.3.0.post0 pysocks-1.7.1 selenium-4.21.0 sortedcontainers-2.4.0 trio-0.25.1 trio-websocket-0.11.1 typing_extensions-4.11.0 wsproto-1.2.0\n",
      "\u001b[33mWARNING: Running pip as the 'root' user can result in broken permissions and conflicting behaviour with the system package manager. It is recommended to use a virtual environment instead: https://pip.pypa.io/warnings/venv\u001b[0m\u001b[33m\n",
      "\u001b[0m\n",
      "\u001b[1m[\u001b[0m\u001b[34;49mnotice\u001b[0m\u001b[1;39;49m]\u001b[0m\u001b[39;49m A new release of pip is available: \u001b[0m\u001b[31;49m23.3\u001b[0m\u001b[39;49m -> \u001b[0m\u001b[32;49m24.0\u001b[0m\n",
      "\u001b[1m[\u001b[0m\u001b[34;49mnotice\u001b[0m\u001b[1;39;49m]\u001b[0m\u001b[39;49m To update, run: \u001b[0m\u001b[32;49mpip install --upgrade pip\u001b[0m\n"
     ]
    }
   ],
   "source": [
    "!pip install selenium"
   ]
  },
  {
   "cell_type": "code",
   "execution_count": 4,
   "id": "dff175f4-e805-4ce3-b52d-f3cdc7538a95",
   "metadata": {},
   "outputs": [
    {
     "name": "stdout",
     "output_type": "stream",
     "text": [
      "Collecting transformers\n",
      "  Downloading transformers-4.41.0-py3-none-any.whl.metadata (43 kB)\n",
      "\u001b[2K     \u001b[90m━━━━━━━━━━━━━━━━━━━━━━━━━━━━━━━━━━━━━━━━\u001b[0m \u001b[32m43.8/43.8 kB\u001b[0m \u001b[31m2.7 MB/s\u001b[0m eta \u001b[36m0:00:00\u001b[0m\n",
      "\u001b[?25hRequirement already satisfied: filelock in /usr/local/lib/python3.8/site-packages (from transformers) (3.12.4)\n",
      "Collecting huggingface-hub<1.0,>=0.23.0 (from transformers)\n",
      "  Downloading huggingface_hub-0.23.0-py3-none-any.whl.metadata (12 kB)\n",
      "Requirement already satisfied: numpy>=1.17 in /usr/local/lib/python3.8/site-packages (from transformers) (1.24.4)\n",
      "Requirement already satisfied: packaging>=20.0 in /usr/local/lib/python3.8/site-packages (from transformers) (23.2)\n",
      "Requirement already satisfied: pyyaml>=5.1 in /usr/local/lib/python3.8/site-packages (from transformers) (6.0.1)\n",
      "Requirement already satisfied: regex!=2019.12.17 in /usr/local/lib/python3.8/site-packages (from transformers) (2023.10.3)\n",
      "Requirement already satisfied: requests in /usr/local/lib/python3.8/site-packages (from transformers) (2.31.0)\n",
      "Collecting tokenizers<0.20,>=0.19 (from transformers)\n",
      "  Downloading tokenizers-0.19.1-cp38-cp38-manylinux_2_17_x86_64.manylinux2014_x86_64.whl.metadata (6.7 kB)\n",
      "Collecting safetensors>=0.4.1 (from transformers)\n",
      "  Downloading safetensors-0.4.3-cp38-cp38-manylinux_2_17_x86_64.manylinux2014_x86_64.whl.metadata (3.8 kB)\n",
      "Requirement already satisfied: tqdm>=4.27 in /usr/local/lib/python3.8/site-packages (from transformers) (4.66.1)\n",
      "Requirement already satisfied: fsspec>=2023.5.0 in /usr/local/lib/python3.8/site-packages (from huggingface-hub<1.0,>=0.23.0->transformers) (2023.9.2)\n",
      "Requirement already satisfied: typing-extensions>=3.7.4.3 in /usr/local/lib/python3.8/site-packages (from huggingface-hub<1.0,>=0.23.0->transformers) (4.11.0)\n",
      "Requirement already satisfied: charset-normalizer<4,>=2 in /usr/local/lib/python3.8/site-packages (from requests->transformers) (3.3.0)\n",
      "Requirement already satisfied: idna<4,>=2.5 in /usr/local/lib/python3.8/site-packages (from requests->transformers) (3.4)\n",
      "Requirement already satisfied: urllib3<3,>=1.21.1 in /usr/local/lib/python3.8/site-packages (from requests->transformers) (2.0.7)\n",
      "Requirement already satisfied: certifi>=2017.4.17 in /usr/local/lib/python3.8/site-packages (from requests->transformers) (2023.7.22)\n",
      "Downloading transformers-4.41.0-py3-none-any.whl (9.1 MB)\n",
      "\u001b[2K   \u001b[90m━━━━━━━━━━━━━━━━━━━━━━━━━━━━━━━━━━━━━━━━\u001b[0m \u001b[32m9.1/9.1 MB\u001b[0m \u001b[31m11.1 MB/s\u001b[0m eta \u001b[36m0:00:00\u001b[0m00:01\u001b[0m00:01\u001b[0m\n",
      "\u001b[?25hDownloading huggingface_hub-0.23.0-py3-none-any.whl (401 kB)\n",
      "\u001b[2K   \u001b[90m━━━━━━━━━━━━━━━━━━━━━━━━━━━━━━━━━━━━━━━━\u001b[0m \u001b[32m401.2/401.2 kB\u001b[0m \u001b[31m9.8 MB/s\u001b[0m eta \u001b[36m0:00:00\u001b[0m:00:01\u001b[0m\n",
      "\u001b[?25hDownloading safetensors-0.4.3-cp38-cp38-manylinux_2_17_x86_64.manylinux2014_x86_64.whl (1.2 MB)\n",
      "\u001b[2K   \u001b[90m━━━━━━━━━━━━━━━━━━━━━━━━━━━━━━━━━━━━━━━━\u001b[0m \u001b[32m1.2/1.2 MB\u001b[0m \u001b[31m10.7 MB/s\u001b[0m eta \u001b[36m0:00:00\u001b[0ma \u001b[36m0:00:01\u001b[0m\n",
      "\u001b[?25hDownloading tokenizers-0.19.1-cp38-cp38-manylinux_2_17_x86_64.manylinux2014_x86_64.whl (3.6 MB)\n",
      "\u001b[2K   \u001b[90m━━━━━━━━━━━━━━━━━━━━━━━━━━━━━━━━━━━━━━━━\u001b[0m \u001b[32m3.6/3.6 MB\u001b[0m \u001b[31m11.1 MB/s\u001b[0m eta \u001b[36m0:00:00\u001b[0m00:01\u001b[0m00:01\u001b[0m\n",
      "\u001b[?25hInstalling collected packages: safetensors, huggingface-hub, tokenizers, transformers\n",
      "Successfully installed huggingface-hub-0.23.0 safetensors-0.4.3 tokenizers-0.19.1 transformers-4.41.0\n",
      "\u001b[33mWARNING: Running pip as the 'root' user can result in broken permissions and conflicting behaviour with the system package manager. It is recommended to use a virtual environment instead: https://pip.pypa.io/warnings/venv\u001b[0m\u001b[33m\n",
      "\u001b[0m\n",
      "\u001b[1m[\u001b[0m\u001b[34;49mnotice\u001b[0m\u001b[1;39;49m]\u001b[0m\u001b[39;49m A new release of pip is available: \u001b[0m\u001b[31;49m23.3\u001b[0m\u001b[39;49m -> \u001b[0m\u001b[32;49m24.0\u001b[0m\n",
      "\u001b[1m[\u001b[0m\u001b[34;49mnotice\u001b[0m\u001b[1;39;49m]\u001b[0m\u001b[39;49m To update, run: \u001b[0m\u001b[32;49mpip install --upgrade pip\u001b[0m\n"
     ]
    }
   ],
   "source": [
    "!pip install transformers"
   ]
  },
  {
   "cell_type": "code",
   "execution_count": 9,
   "id": "d1497be0-8964-4394-aa49-065c768dc01a",
   "metadata": {},
   "outputs": [
    {
     "name": "stdout",
     "output_type": "stream",
     "text": [
      "Collecting fugashi\n",
      "  Downloading fugashi-1.3.2-cp38-cp38-manylinux_2_17_x86_64.manylinux2014_x86_64.whl.metadata (7.0 kB)\n",
      "Downloading fugashi-1.3.2-cp38-cp38-manylinux_2_17_x86_64.manylinux2014_x86_64.whl (616 kB)\n",
      "\u001b[2K   \u001b[90m━━━━━━━━━━━━━━━━━━━━━━━━━━━━━━━━━━━━━━━━\u001b[0m \u001b[32m616.0/616.0 kB\u001b[0m \u001b[31m8.2 MB/s\u001b[0m eta \u001b[36m0:00:00\u001b[0m00:01\u001b[0m00:01\u001b[0m\n",
      "\u001b[?25hInstalling collected packages: fugashi\n",
      "Successfully installed fugashi-1.3.2\n",
      "\u001b[33mWARNING: Running pip as the 'root' user can result in broken permissions and conflicting behaviour with the system package manager. It is recommended to use a virtual environment instead: https://pip.pypa.io/warnings/venv\u001b[0m\u001b[33m\n",
      "\u001b[0m\n",
      "\u001b[1m[\u001b[0m\u001b[34;49mnotice\u001b[0m\u001b[1;39;49m]\u001b[0m\u001b[39;49m A new release of pip is available: \u001b[0m\u001b[31;49m23.3\u001b[0m\u001b[39;49m -> \u001b[0m\u001b[32;49m24.0\u001b[0m\n",
      "\u001b[1m[\u001b[0m\u001b[34;49mnotice\u001b[0m\u001b[1;39;49m]\u001b[0m\u001b[39;49m To update, run: \u001b[0m\u001b[32;49mpip install --upgrade pip\u001b[0m\n"
     ]
    }
   ],
   "source": [
    "!pip install fugashi"
   ]
  },
  {
   "cell_type": "code",
   "execution_count": 11,
   "id": "93ca07bd-cc63-43f1-8ef9-96dc82bf8d11",
   "metadata": {},
   "outputs": [
    {
     "name": "stdout",
     "output_type": "stream",
     "text": [
      "Collecting unidic-lite\n",
      "  Downloading unidic-lite-1.0.8.tar.gz (47.4 MB)\n",
      "\u001b[2K     \u001b[90m━━━━━━━━━━━━━━━━━━━━━━━━━━━━━━━━━━━━━━━━\u001b[0m \u001b[32m47.4/47.4 MB\u001b[0m \u001b[31m9.6 MB/s\u001b[0m eta \u001b[36m0:00:00\u001b[0m:00:01\u001b[0m00:01\u001b[0m\n",
      "\u001b[?25h  Preparing metadata (setup.py) ... \u001b[?25ldone\n",
      "\u001b[?25hBuilding wheels for collected packages: unidic-lite\n",
      "  Building wheel for unidic-lite (setup.py) ... \u001b[?25ldone\n",
      "\u001b[?25h  Created wheel for unidic-lite: filename=unidic_lite-1.0.8-py3-none-any.whl size=47658837 sha256=87a0e37e93d39c973d8d10a88e2c062f8ca8d3a1bb2a85383c8ed6407b632f1c\n",
      "  Stored in directory: /root/.cache/pip/wheels/8c/dd/8f/e21fc192dcd38ae31e1185ce4e66e12df4e811e3d469866e15\n",
      "Successfully built unidic-lite\n",
      "Installing collected packages: unidic-lite\n",
      "Successfully installed unidic-lite-1.0.8\n",
      "\u001b[33mWARNING: Running pip as the 'root' user can result in broken permissions and conflicting behaviour with the system package manager. It is recommended to use a virtual environment instead: https://pip.pypa.io/warnings/venv\u001b[0m\u001b[33m\n",
      "\u001b[0m\n",
      "\u001b[1m[\u001b[0m\u001b[34;49mnotice\u001b[0m\u001b[1;39;49m]\u001b[0m\u001b[39;49m A new release of pip is available: \u001b[0m\u001b[31;49m23.3\u001b[0m\u001b[39;49m -> \u001b[0m\u001b[32;49m24.0\u001b[0m\n",
      "\u001b[1m[\u001b[0m\u001b[34;49mnotice\u001b[0m\u001b[1;39;49m]\u001b[0m\u001b[39;49m To update, run: \u001b[0m\u001b[32;49mpip install --upgrade pip\u001b[0m\n"
     ]
    }
   ],
   "source": [
    "!pip install unidic-lite"
   ]
  },
  {
   "cell_type": "code",
   "execution_count": 37,
   "id": "0c60f264-b2bc-4566-bcf5-b26389b1a2e1",
   "metadata": {},
   "outputs": [
    {
     "name": "stdout",
     "output_type": "stream",
     "text": [
      "Requirement already satisfied: unidic-lite in /usr/local/lib/python3.8/site-packages (1.0.8)\n",
      "\u001b[33mWARNING: Running pip as the 'root' user can result in broken permissions and conflicting behaviour with the system package manager. It is recommended to use a virtual environment instead: https://pip.pypa.io/warnings/venv\u001b[0m\u001b[33m\n",
      "\u001b[0m"
     ]
    }
   ],
   "source": [
    "!pip install unidic-lite"
   ]
  },
  {
   "cell_type": "code",
   "execution_count": null,
   "id": "1a171d38-4240-4a73-b758-8963d38b1428",
   "metadata": {},
   "outputs": [],
   "source": []
  },
  {
   "cell_type": "code",
   "execution_count": 1,
   "id": "e58d39b0-660a-4676-8a23-36a1000164b0",
   "metadata": {},
   "outputs": [
    {
     "name": "stdout",
     "output_type": "stream",
     "text": [
      "https://eiga.com/movie/50969/review/まで終了\n",
      "https://eiga.com/movie/50969/review/all/2まで終了\n",
      "https://eiga.com/movie/50969/review/all/3まで終了\n",
      "https://eiga.com/movie/50969/review/all/4まで終了\n",
      "https://eiga.com/movie/50969/review/all/5まで終了\n",
      "https://eiga.com/movie/50969/review/all/6まで終了\n",
      "https://eiga.com/movie/50969/review/all/7まで終了\n",
      "https://eiga.com/movie/50969/review/all/8まで終了\n",
      "https://eiga.com/movie/50969/review/all/9まで終了\n",
      "https://eiga.com/movie/50969/review/all/10まで終了\n"
     ]
    }
   ],
   "source": [
    "import requests\n",
    "from bs4 import BeautifulSoup\n",
    "import time\n",
    "import pandas as pd\n",
    "\n",
    "\n",
    "filename = \"./RomanHoliday.csv\"  # 保存するCSVファイル名\n",
    "base_url = \"https://eiga.com/movie/50969/review/\" # ローマの休日\n",
    "\n",
    "url_list = [base_url]\n",
    "headers = {\"User-Agent\": \"Mozilla/5.0\"}\n",
    "\n",
    "# 次のページのURL\n",
    "# /all/2 から/all/10 までを追記\n",
    "for i in range(2, 11):\n",
    "    url_list.append(base_url+\"all/\"+str(i))\n",
    "\n",
    "\n",
    "# 空のリストを用意\n",
    "user_ids = []   # ユーザーID\n",
    "ratings = []    # 評価値\n",
    "titles = []     # レビューのタイトル\n",
    "reviews = []    # レビュー\n",
    "\n",
    "# 各URLについてレビューなどを取得    \n",
    "for url in url_list:    \n",
    "    response = requests.get(url, headers=headers)\n",
    "    soup = BeautifulSoup(response.text, \"lxml\")\n",
    "\n",
    "    # 全てのレビュー要素を取得する\n",
    "    review_elements = soup.find_all('div', class_='user-review')\n",
    "\n",
    "\n",
    "    # 各レビューの情報を取得する\n",
    "    for review_element in review_elements:\n",
    "        # ユーザーID\n",
    "        user_id = review_element['data-review-user']\n",
    "        \n",
    "        # 評価の数値を取得する\n",
    "        rating_element = review_element.find('span', class_='rating-star')\n",
    "        rating = rating_element.text if rating_element else None\n",
    "    \n",
    "        # レビュータイトルを取得する\n",
    "        title_element = review_element.find('h2', class_='review-title')\n",
    "        title = title_element.text.replace(rating, '').strip() if title_element else None\n",
    "    \n",
    "        # レビュー本文を取得する\n",
    "        review_text_element = review_element.find('p', class_='short')\n",
    "        hidden_review_text_element = review_element.find('p', class_='hidden')  # ネタバレを含むレビューを入れる場合\n",
    "        if review_text_element:\n",
    "            review = review_text_element.text.strip() \n",
    "        elif hidden_review_text_element:\n",
    "            review = hidden_review_text_element.text.strip() \n",
    "        else:\n",
    "            review = None\n",
    "\n",
    "\n",
    "        # 取得した情報をリストに追加\n",
    "        user_ids.append(user_id)\n",
    "        ratings.append(rating)\n",
    "        titles.append(title)\n",
    "        reviews.append(review)\n",
    "\n",
    "    print(f\"{url}まで終了\")\n",
    "    time.sleep(2)\n",
    "\n",
    "\n",
    "#---------------------------------------------------------------------\n",
    "# csvファイルとして保存\n",
    "# リストをPandasのDataFrameに変換\n",
    "df = pd.DataFrame({\n",
    "    'user_id'  : user_ids,\n",
    "    'rating': ratings,\n",
    "    'title': titles,\n",
    "    'review': reviews,\n",
    "})\n",
    "\n",
    "df.to_csv(filename, index=False)\n"
   ]
  },
  {
   "cell_type": "code",
   "execution_count": null,
   "id": "7fe813a7-fe6f-434e-a756-213dd8d3b7ec",
   "metadata": {},
   "outputs": [],
   "source": []
  },
  {
   "cell_type": "code",
   "execution_count": 2,
   "id": "15022dde-442f-45fe-adc6-12ef8bbae05b",
   "metadata": {},
   "outputs": [
    {
     "data": {
      "text/html": [
       "<div>\n",
       "<style scoped>\n",
       "    .dataframe tbody tr th:only-of-type {\n",
       "        vertical-align: middle;\n",
       "    }\n",
       "\n",
       "    .dataframe tbody tr th {\n",
       "        vertical-align: top;\n",
       "    }\n",
       "\n",
       "    .dataframe thead th {\n",
       "        text-align: right;\n",
       "    }\n",
       "</style>\n",
       "<table border=\"1\" class=\"dataframe\">\n",
       "  <thead>\n",
       "    <tr style=\"text-align: right;\">\n",
       "      <th></th>\n",
       "      <th>user_id</th>\n",
       "      <th>rating</th>\n",
       "      <th>title</th>\n",
       "      <th>review</th>\n",
       "    </tr>\n",
       "  </thead>\n",
       "  <tbody>\n",
       "    <tr>\n",
       "      <th>0</th>\n",
       "      <td>498613</td>\n",
       "      <td>4.5</td>\n",
       "      <td>最後に語られる\"フレンドシップ(友情)\"の深い意味</td>\n",
       "      <td>ヨーロッパ歴訪の過密スケジュールに辟易した某国王女アンが、こっそりとローマの街へ飛び出して、...</td>\n",
       "    </tr>\n",
       "    <tr>\n",
       "      <th>1</th>\n",
       "      <td>1221593</td>\n",
       "      <td>5.0</td>\n",
       "      <td>アービング、空気読んでくれてありがとう</td>\n",
       "      <td>劇場で観るのは初めてでしたが、やはり胸がいっぱいになる素晴らしい作品。真実の口、ダンスパーテ...</td>\n",
       "    </tr>\n",
       "    <tr>\n",
       "      <th>2</th>\n",
       "      <td>956100</td>\n",
       "      <td>5.0</td>\n",
       "      <td>劇場での鑑賞は約40年ぶりになります とても思い出の深い作品なので...</td>\n",
       "      <td>劇場での鑑賞は約40年ぶりになりますとても思い出の深い作品なのでまたスクリーンで観れてとても...</td>\n",
       "    </tr>\n",
       "    <tr>\n",
       "      <th>3</th>\n",
       "      <td>927905</td>\n",
       "      <td>4.5</td>\n",
       "      <td>名作と呼ばれるに相応しい！！</td>\n",
       "      <td>初っ端の、｢thank you♡｣と一人一人にご挨拶をするシーンでもう既に心奪われる。｢足痛...</td>\n",
       "    </tr>\n",
       "    <tr>\n",
       "      <th>4</th>\n",
       "      <td>1223608</td>\n",
       "      <td>4.0</td>\n",
       "      <td>身分を隠した一抹の恋路</td>\n",
       "      <td>オードリー・ヘプバーンのドキュメンタリーみたので、未鑑賞のものを。不朽の名作ですね～彼女のド...</td>\n",
       "    </tr>\n",
       "  </tbody>\n",
       "</table>\n",
       "</div>"
      ],
      "text/plain": [
       "   user_id rating                                 title  \\\n",
       "0   498613    4.5             最後に語られる\"フレンドシップ(友情)\"の深い意味   \n",
       "1  1221593    5.0                   アービング、空気読んでくれてありがとう   \n",
       "2   956100    5.0  劇場での鑑賞は約40年ぶりになります とても思い出の深い作品なので...   \n",
       "3   927905    4.5                        名作と呼ばれるに相応しい！！   \n",
       "4  1223608    4.0                           身分を隠した一抹の恋路   \n",
       "\n",
       "                                              review  \n",
       "0  ヨーロッパ歴訪の過密スケジュールに辟易した某国王女アンが、こっそりとローマの街へ飛び出して、...  \n",
       "1  劇場で観るのは初めてでしたが、やはり胸がいっぱいになる素晴らしい作品。真実の口、ダンスパーテ...  \n",
       "2  劇場での鑑賞は約40年ぶりになりますとても思い出の深い作品なのでまたスクリーンで観れてとても...  \n",
       "3  初っ端の、｢thank you♡｣と一人一人にご挨拶をするシーンでもう既に心奪われる。｢足痛...  \n",
       "4  オードリー・ヘプバーンのドキュメンタリーみたので、未鑑賞のものを。不朽の名作ですね～彼女のド...  "
      ]
     },
     "execution_count": 2,
     "metadata": {},
     "output_type": "execute_result"
    }
   ],
   "source": [
    "df.head()"
   ]
  },
  {
   "cell_type": "markdown",
   "id": "0f207f75-7c2c-4599-abff-bc15e4a202d6",
   "metadata": {},
   "source": [
    "# ライブラリのインポート"
   ]
  },
  {
   "cell_type": "code",
   "execution_count": 32,
   "id": "2d973fb6-090d-4ccd-9c23-939415088657",
   "metadata": {},
   "outputs": [],
   "source": [
    "import torch\n",
    "from transformers import pipeline, AutoModelForSequenceClassification, AutoTokenizer\n",
    "import seaborn as sns \n",
    "import matplotlib.pyplot as plt\n",
    "import numpy as np\n",
    "import MeCab\n"
   ]
  },
  {
   "cell_type": "markdown",
   "id": "7809f351-a4d3-4adc-ac82-c3d04afa6b98",
   "metadata": {},
   "source": [
    "# 感情分析の実装"
   ]
  },
  {
   "cell_type": "code",
   "execution_count": 12,
   "id": "1223cd05-f7f5-489a-9ff7-d9c60b99a027",
   "metadata": {},
   "outputs": [],
   "source": [
    "# 事前学習済みの日本語感情分析モデルとそのトークナイザをロード\n",
    "model = AutoModelForSequenceClassification.from_pretrained('christian-phu/bert-finetuned-japanese-sentiment')\n",
    "tokenizer = AutoTokenizer.from_pretrained('christian-phu/bert-finetuned-japanese-sentiment', model_max_lentgh=512)\n",
    "\n",
    "# 感情分析のためのパイプラインを設定\n",
    "nlp = pipeline('sentiment-analysis', model=model, tokenizer=tokenizer, truncation=True)\n"
   ]
  },
  {
   "cell_type": "code",
   "execution_count": 14,
   "id": "e72abdf8-88b0-49b4-b2d4-dc762553b1fe",
   "metadata": {},
   "outputs": [],
   "source": [
    "def make_nega_posi(text:str, model, tokenizer):\n",
    "    \"\"\"\n",
    "    ネガティブかポジティブか\n",
    "    \"\"\"\n",
    "    inputs = tokenizer(text, padding=True, truncation=True, return_tensors='pt', max_length=512)\n",
    "    outputs = model(**inputs)\n",
    "    logits = outputs.logits\n",
    "\n",
    "    # ロジットを確率に変換\n",
    "    probabilities = torch.softmax(logits, dim=1)[0]\n",
    "\n",
    "    # 最も高い確率の感情ラベルを取得\n",
    "    sentiment_label = model.config.id2label[torch.argmax(probabilities).item()]\n",
    "    return sentiment_label"
   ]
  },
  {
   "cell_type": "code",
   "execution_count": 13,
   "id": "5a3ba814-33aa-4899-b243-2b00f9c73c50",
   "metadata": {},
   "outputs": [
    {
     "name": "stdout",
     "output_type": "stream",
     "text": [
      "**************************************************\n",
      "テキスト：給料が高くて満足しています。\n",
      "感情：positive\n",
      "感情スコア：0.9992052912712097\n",
      "**************************************************\n",
      "テキスト：給料低すぎるだろ！\n",
      "感情：negative\n",
      "感情スコア：0.9936193823814392\n",
      "**************************************************\n",
      "テキスト：可もなく不可もなく\n",
      "感情：neutral\n",
      "感情スコア：0.0014821902150288224\n"
     ]
    }
   ],
   "source": [
    "# 分析対象となるテキストのリスト\n",
    "texts = ['給料が高くて満足しています。', '給料低すぎるだろ！', '可もなく不可もなく']\n",
    "\n",
    "# 各テキストに対して感情分析を実行\n",
    "for text in texts:\n",
    "    print('*'*50)\n",
    "    inputs = tokenizer(text, padding=True, truncation=True, return_tensors='pt', max_length=512)\n",
    "    outputs = model(**inputs)\n",
    "    logits = outputs.logits\n",
    "\n",
    "    # ロジットを確率に変換\n",
    "    probabilities = torch.softmax(logits, dim=1)[0]\n",
    "\n",
    "    # 最も高い確率の感情ラベルを取得\n",
    "    sentiment_label = model.config.id2label[torch.argmax(probabilities).item()]\n",
    "\n",
    "    print('テキスト：{}'.format(text))\n",
    "    print('感情：{}'.format(sentiment_label))\n",
    "\n",
    "\n",
    "    # positiveまたはnegativeの場合はその確率を表示、neutralの場合はpositiveとnegativeの最大値を表示\n",
    "    if ((sentiment_label == 'positive') or (sentiment_label == 'negative')):  \n",
    "        print('感情スコア：{}'.format(max(probabilities)))\n",
    "    else:\n",
    "        print('感情スコア：{}'.format(max(probabilities[0], probabilities[2])))"
   ]
  },
  {
   "cell_type": "code",
   "execution_count": 16,
   "id": "c5fc6037-ad36-4faa-b1b6-2ffbb2934a57",
   "metadata": {},
   "outputs": [],
   "source": [
    "df[\"nega_posi\"] = df[\"review\"].apply(lambda text: make_nega_posi(text, model, tokenizer))"
   ]
  },
  {
   "cell_type": "code",
   "execution_count": 25,
   "id": "44e789e7-83f1-4f5c-ad76-68ec1177c193",
   "metadata": {},
   "outputs": [
    {
     "data": {
      "image/png": "[encoded data removed]",
      "text/plain": [
       "<Figure size 640x480 with 1 Axes>"
      ]
     },
     "metadata": {},
     "output_type": "display_data"
    }
   ],
   "source": [
    "# グラフ化\n",
    "plt.style.use('default')\n",
    "sns.set()\n",
    "sns.set_style('whitegrid')\n",
    "sns.set_palette('Set2')\n",
    "\n",
    "x = [\"positive\", \"negative\", \"neutral\"]\n",
    "y = [len(df[df[\"nega_posi\"] == \"positive\"]),len(df[df[\"nega_posi\"] == \"negative\"]),len(df[df[\"nega_posi\"] == \"neutral\"]),]\n",
    "\n",
    "fig = plt.figure()\n",
    "ax = fig.add_subplot(1, 1, 1)\n",
    "ax.pie(y, labels=x, autopct=\"%1.1f%%\")\n",
    "\n",
    "plt.show()\n",
    "# セグメントごとに見るのはあり。"
   ]
  },
  {
   "attachments": {
    "35758ce5-08e1-4040-9dbb-0215ed9756f0.png": {
     "image/png": "[encoded data removed]"
    }
   },
   "cell_type": "markdown",
   "id": "e00e1b3a-fc3a-45ba-94e9-823e1556c7ec",
   "metadata": {},
   "source": [
    "# キーワード抽出\n",
    "\n",
    "![スクリーンショット 2024-05-18 11.22.39.png](attachment:35758ce5-08e1-4040-9dbb-0215ed9756f0.png)"
   ]
  },
  {
   "cell_type": "code",
   "execution_count": 35,
   "id": "7ecc8b44-a59f-4673-a2a3-ed7db6b8ee04",
   "metadata": {},
   "outputs": [
    {
     "data": {
      "text/plain": [
       "'ヨーロッパ歴訪の過密スケジュールに辟易した某国王女アンが、こっそりとローマの街へ飛び出して、新聞記者のジョーと恋に落ちる。宮殿で主治医から投与された鎮静剤が効いてきて街角で寝こけてしまったアンを、偶然ジョーが助けたのが馴れ初めだが、当然、真実を隠したいアンと、彼女が王女と知って特ダネにしたいジョーは、互いに身分を偽ったままローマを探訪するうちに、気がつくと惹かれ合っていたというわけだ。かなり強引な展開だが、観客は少しも不自然さを感じない。ウィリアム・ワイラーの流麗な演出と、モノクロ画面に映し出されるローマの風景と、何よりも、王女の心の変化を自然体で演じるオードリー・ヘプバーンの瑞々しさが物語を引っ張っていってくれるからだ。しかし、脚本の妙こそが称えられるべきかもしれない。製作当時、ハリウッドに吹き荒れた\"赤狩り\"の煽りを受けて、仕事を干されたドルトン・トランボが、、本名を隠して綴った「ローマの休日」の脚本には、同じ仲間でありながら分断された映画人の心の叫びが、永遠の友情を密かに誓い合うアンとジョーを通して浮かび上がってくるからだ。終幕間際まで上質のラブロマンスとして推移する映画が、\"フレンドシップ(友情)\"という言葉で締め括られることの意味を、再見の際には是非感じ取って頂きたい。'"
      ]
     },
     "execution_count": 35,
     "metadata": {},
     "output_type": "execute_result"
    }
   ],
   "source": [
    "df[\"review\"][0]"
   ]
  },
  {
   "cell_type": "code",
   "execution_count": 46,
   "id": "6f2354d4-275e-45d6-a304-29adb862e61e",
   "metadata": {},
   "outputs": [
    {
     "ename": "RuntimeError",
     "evalue": "\n----------------------------------------------------------\n\nFailed initializing MeCab. Please see the README for possible solutions:\n\n    https://github.com/SamuraiT/mecab-python3#common-issues\n\nIf you are still having trouble, please file an issue here, and include the\nERROR DETAILS below:\n\n    https://github.com/SamuraiT/mecab-python3/issues\n\nissueを英語で書く必要はありません。\n\n------------------- ERROR DETAILS ------------------------\narguments: -Ochasen\ndefault dictionary path: /usr/local/lib/python3.8/site-packages/unidic_lite/dicdir\n [!tmp.empty()] unknown format type [chasen]\n----------------------------------------------------------\n",
     "output_type": "error",
     "traceback": [
      "\u001b[0;31m---------------------------------------------------------------------------\u001b[0m",
      "\u001b[0;31mRuntimeError\u001b[0m                              Traceback (most recent call last)",
      "File \u001b[0;32m/usr/local/lib/python3.8/site-packages/MeCab/__init__.py:137\u001b[0m, in \u001b[0;36mTagger.__init__\u001b[0;34m(self, rawargs)\u001b[0m\n\u001b[1;32m    136\u001b[0m \u001b[38;5;28;01mtry\u001b[39;00m:\n\u001b[0;32m--> 137\u001b[0m     \u001b[38;5;28;43msuper\u001b[39;49m\u001b[43m(\u001b[49m\u001b[43mTagger\u001b[49m\u001b[43m,\u001b[49m\u001b[43m \u001b[49m\u001b[38;5;28;43mself\u001b[39;49m\u001b[43m)\u001b[49m\u001b[38;5;241;43m.\u001b[39;49m\u001b[38;5;21;43m__init__\u001b[39;49m\u001b[43m(\u001b[49m\u001b[43margs\u001b[49m\u001b[43m)\u001b[49m\n\u001b[1;32m    138\u001b[0m \u001b[38;5;28;01mexcept\u001b[39;00m \u001b[38;5;167;01mRuntimeError\u001b[39;00m \u001b[38;5;28;01mas\u001b[39;00m ee:\n",
      "\u001b[0;31mRuntimeError\u001b[0m: ",
      "\nThe above exception was the direct cause of the following exception:\n",
      "\u001b[0;31mRuntimeError\u001b[0m                              Traceback (most recent call last)",
      "Cell \u001b[0;32mIn[46], line 2\u001b[0m\n\u001b[1;32m      1\u001b[0m \u001b[38;5;66;03m# all_contact_textに対してMeCabで形態素解析\u001b[39;00m\n\u001b[0;32m----> 2\u001b[0m mecab \u001b[38;5;241m=\u001b[39m \u001b[43mMeCab\u001b[49m\u001b[38;5;241;43m.\u001b[39;49m\u001b[43mTagger\u001b[49m\u001b[43m \u001b[49m\u001b[43m(\u001b[49m\u001b[38;5;124;43m\"\u001b[39;49m\u001b[38;5;124;43m-Ochasen\u001b[39;49m\u001b[38;5;124;43m\"\u001b[39;49m\u001b[43m)\u001b[49m \u001b[38;5;66;03m#辞書の読み込み\u001b[39;00m\n\u001b[1;32m      3\u001b[0m node \u001b[38;5;241m=\u001b[39m mecab\u001b[38;5;241m.\u001b[39mparseToNode(df[\u001b[38;5;124m\"\u001b[39m\u001b[38;5;124mreview\u001b[39m\u001b[38;5;124m\"\u001b[39m][\u001b[38;5;241m0\u001b[39m])\n\u001b[1;32m      5\u001b[0m word_arr\u001b[38;5;241m=\u001b[39m[]\n",
      "File \u001b[0;32m/usr/local/lib/python3.8/site-packages/MeCab/__init__.py:139\u001b[0m, in \u001b[0;36mTagger.__init__\u001b[0;34m(self, rawargs)\u001b[0m\n\u001b[1;32m    137\u001b[0m     \u001b[38;5;28msuper\u001b[39m(Tagger, \u001b[38;5;28mself\u001b[39m)\u001b[38;5;241m.\u001b[39m\u001b[38;5;21m__init__\u001b[39m(args)\n\u001b[1;32m    138\u001b[0m \u001b[38;5;28;01mexcept\u001b[39;00m \u001b[38;5;167;01mRuntimeError\u001b[39;00m \u001b[38;5;28;01mas\u001b[39;00m ee:\n\u001b[0;32m--> 139\u001b[0m     \u001b[38;5;28;01mraise\u001b[39;00m \u001b[38;5;167;01mRuntimeError\u001b[39;00m(error_info(rawargs)) \u001b[38;5;28;01mfrom\u001b[39;00m \u001b[38;5;21;01mee\u001b[39;00m\n",
      "\u001b[0;31mRuntimeError\u001b[0m: \n----------------------------------------------------------\n\nFailed initializing MeCab. Please see the README for possible solutions:\n\n    https://github.com/SamuraiT/mecab-python3#common-issues\n\nIf you are still having trouble, please file an issue here, and include the\nERROR DETAILS below:\n\n    https://github.com/SamuraiT/mecab-python3/issues\n\nissueを英語で書く必要はありません。\n\n------------------- ERROR DETAILS ------------------------\narguments: -Ochasen\ndefault dictionary path: /usr/local/lib/python3.8/site-packages/unidic_lite/dicdir\n [!tmp.empty()] unknown format type [chasen]\n----------------------------------------------------------\n"
     ]
    }
   ],
   "source": [
    "# all_contact_textに対してMeCabで形態素解析\n",
    "mecab = MeCab.Tagger (\"-Ochasen\") #辞書の読み込み\n",
    "node = mecab.parseToNode(df[\"review\"][0])\n",
    "\n",
    "word_arr=[]\n",
    "while node:\n",
    "    hinshi = node.feature.split(\",\")[0]\n",
    "    if hinshi in [\"名詞\",\"形容詞\",\"動詞\"]: # 文脈を読みたいので形容詞と動詞も抽出対象に\n",
    "        origin = node.feature.split(\",\")[6]\n",
    "        word_arr.append(origin)\n",
    "    node = node.next\n",
    "\n",
    "\n",
    "# 「*」を削除\n",
    "word_arr_except_trash = []\n",
    "not_trash_num = [i for i in range(len(word_arr)) if word_arr[i] != \"*\"]\n",
    "for i  in not_trash_num:\n",
    "    word_arr_except_trash.append(word_arr[i])"
   ]
  },
  {
   "cell_type": "code",
   "execution_count": null,
   "id": "c8c81743-8165-4bc8-bc15-307cecd0d5f0",
   "metadata": {},
   "outputs": [],
   "source": []
  },
  {
   "cell_type": "code",
   "execution_count": 43,
   "id": "280a6650-8ace-4c16-b1ab-d46ea78d3ead",
   "metadata": {},
   "outputs": [
    {
     "name": "stdout",
     "output_type": "stream",
     "text": [
      "[('アン/ジョー', 2), ('スル/エイガ', 2), ('ヨーロッパ/レキホウ', 1), ('レキホウ/カミツ', 1), ('カミツ/スケジュール', 1), ('スケジュール/ヘキエキ', 1), ('ヘキエキ/スル', 1), ('スル/ボウコク', 1), ('ボウコク/オウジョ', 1), ('オウジョ/アン', 1), ('アン/ローマ', 1), ('ローマ/マチ', 1), ('マチ/トビダス', 1), ('トビダス/シンブン', 1), ('シンブン/キシャ', 1), ('キシャ/ジョー', 1), ('ジョー/コイ', 1), ('コイ/オチル', 1), ('オチル/キュウデン', 1), ('キュウデン/シュジ', 1), ('シュジ/トウヨ', 1), ('トウヨ/スル', 1), ('スル/チンセイ', 1), ('チンセイ/キク', 1), ('キク/クル', 1), ('クル/マチカド', 1), ('マチカド/ネコケル', 1), ('ネコケル/シマウ', 1), ('シマウ/アン', 1), ('ジョー/タスケル', 1), ('タスケル/ナレソメ', 1), ('ナレソメ/シンジツ', 1), ('シンジツ/カクス', 1), ('カクス/アン', 1), ('アン/オウジョ', 1), ('オウジョ/シル', 1), ('シル/トクダネ', 1), ('トクダネ/スル', 1), ('スル/ジョー', 1), ('ジョー/タガイ', 1), ('タガイ/ミブン', 1), ('ミブン/イツワル', 1), ('イツワル/ママ', 1), ('ママ/ローマ', 1), ('ローマ/タンボウ', 1), ('タンボウ/スル', 1), ('スル/ウチ', 1), ('ウチ/キ', 1), ('キ/ツク', 1), ('ツク/ヒク', 1)]\n"
     ]
    }
   ],
   "source": [
    "# all_contact_textに対してMeCabで形態素解析\n",
    "mecab = MeCab.Tagger (\"-Owakati\") #辞書の読み込み\n",
    "node = mecab.parseToNode(df[\"review\"][0])\n",
    "\n",
    "word_arr=[]\n",
    "while node:\n",
    "    hinshi = node.feature.split(\",\")[0]\n",
    "    if hinshi in [\"名詞\",\"形容詞\",\"動詞\"]: # 文脈を読みたいので形容詞と動詞も抽出対象に\n",
    "        origin = node.feature.split(\",\")[6]\n",
    "        word_arr.append(origin)\n",
    "    node = node.next\n",
    "\n",
    "\n",
    "# 「*」を削除\n",
    "word_arr_except_trash = []\n",
    "not_trash_num = [i for i in range(len(word_arr)) if word_arr[i] != \"*\"]\n",
    "for i  in not_trash_num:\n",
    "    word_arr_except_trash.append(word_arr[i])\n",
    "\n",
    "# ２つの形態素で区切る場合\n",
    "join_word_arr = []\n",
    "for i in range(len(word_arr_except_trash)-1):\n",
    "    join_word = word_arr_except_trash[i] + \"/\" +word_arr_except_trash[i+1]\n",
    "    join_word_arr.append(join_word)\n",
    "\n",
    "# 3つの形態素で区切る場合\n",
    "# join_word_arr = []\n",
    "# for i in range(len(word_arr_except_trash)-2):\n",
    "#     join_word = word_arr_except_trash[i] + \"/\" +word_arr_except_trash[i+1]+\"/\"+word_arr_except_trash[i+2]\n",
    "#     join_word_arr.append(join_word)\n",
    "\n",
    "# 4つの形態素で区切る場合\n",
    "# join_word_arr = []\n",
    "# for i in range(len(word_arr_except_trash)-3):\n",
    "#     join_word = word_arr_except_trash[i] + \"/\" +word_arr_except_trash[i+1]+\"/\"+word_arr_except_trash[i+2]+\"/\"+word_arr_except_trash[i+3]\n",
    "#     join_word_arr.append(join_word)\n",
    "\n",
    "#単語の数をカウント\n",
    "import collections\n",
    "c = collections.Counter(join_word_arr)\n",
    "print(c.most_common(50))"
   ]
  },
  {
   "cell_type": "code",
   "execution_count": null,
   "id": "557c4d7b-65bb-490b-9952-78c0a3e57ea4",
   "metadata": {},
   "outputs": [],
   "source": []
  },
  {
   "cell_type": "code",
   "execution_count": null,
   "id": "92632dfe-0d2b-4252-a680-60f9618b9b8b",
   "metadata": {},
   "outputs": [],
   "source": []
  },
  {
   "cell_type": "code",
   "execution_count": null,
   "id": "62b04d4a-cf5d-4d6b-8a6e-23c398d69a44",
   "metadata": {},
   "outputs": [],
   "source": []
  },
  {
   "cell_type": "code",
   "execution_count": null,
   "id": "e28f4869-2af3-4bfc-8921-cbe27c4cecee",
   "metadata": {},
   "outputs": [],
   "source": []
  },
  {
   "cell_type": "code",
   "execution_count": null,
   "id": "5a90b114-34cc-40b1-b652-f33f8a60fc81",
   "metadata": {},
   "outputs": [],
   "source": []
  },
  {
   "cell_type": "code",
   "execution_count": null,
   "id": "95af8ba6-428d-4101-86ac-f6dbd616d22b",
   "metadata": {},
   "outputs": [],
   "source": []
  },
  {
   "cell_type": "code",
   "execution_count": null,
   "id": "de25a233-98fa-4c4d-aeb6-f23e4cdee49c",
   "metadata": {},
   "outputs": [],
   "source": []
  },
  {
   "cell_type": "code",
   "execution_count": null,
   "id": "cceae1e8-a582-4a6b-9988-75f2fee4b135",
   "metadata": {},
   "outputs": [],
   "source": []
  },
  {
   "cell_type": "code",
   "execution_count": null,
   "id": "49617fd4-62b0-4064-b6c2-cf8c08998b8b",
   "metadata": {},
   "outputs": [],
   "source": []
  },
  {
   "cell_type": "code",
   "execution_count": null,
   "id": "ed19e0f4-5787-437e-8062-7607c4a36b05",
   "metadata": {},
   "outputs": [],
   "source": []
  },
  {
   "cell_type": "code",
   "execution_count": null,
   "id": "f6c5b58f-1c79-40d2-bc2f-651bf8f203db",
   "metadata": {},
   "outputs": [],
   "source": []
  },
  {
   "cell_type": "code",
   "execution_count": null,
   "id": "6e15b2cc-cfe8-45a3-bc04-2806af3e13b4",
   "metadata": {},
   "outputs": [],
   "source": []
  },
  {
   "cell_type": "code",
   "execution_count": null,
   "id": "b0b708fd-fc91-4e00-88ee-8b436d1b1e17",
   "metadata": {},
   "outputs": [],
   "source": []
  },
  {
   "cell_type": "code",
   "execution_count": null,
   "id": "584dc0fa-45a5-49c3-a170-2ec47865a122",
   "metadata": {},
   "outputs": [],
   "source": []
  },
  {
   "cell_type": "code",
   "execution_count": null,
   "id": "75c39a32-2b26-474d-991f-c9955fc493ac",
   "metadata": {},
   "outputs": [],
   "source": []
  },
  {
   "cell_type": "code",
   "execution_count": null,
   "id": "eb3fc08d-be56-4d93-adc6-38a47ef1bace",
   "metadata": {},
   "outputs": [],
   "source": []
  },
  {
   "cell_type": "code",
   "execution_count": null,
   "id": "3e23be15-eddb-4813-9914-da6a750453e8",
   "metadata": {},
   "outputs": [],
   "source": []
  },
  {
   "cell_type": "code",
   "execution_count": null,
   "id": "24dda730-5b78-49bf-9f3d-88c413a79f57",
   "metadata": {},
   "outputs": [],
   "source": []
  },
  {
   "cell_type": "code",
   "execution_count": null,
   "id": "9504e3cd-d41f-4aac-8321-1ebe384067a9",
   "metadata": {},
   "outputs": [],
   "source": []
  },
  {
   "cell_type": "code",
   "execution_count": null,
   "id": "884e8589-0190-4b23-873e-980b3be7f01e",
   "metadata": {},
   "outputs": [],
   "source": []
  },
  {
   "cell_type": "code",
   "execution_count": null,
   "id": "e54ff3e2-fe19-4223-8998-9d365b6aa3c6",
   "metadata": {},
   "outputs": [],
   "source": []
  },
  {
   "cell_type": "code",
   "execution_count": null,
   "id": "bc6177f2-cc9b-4d7d-a5f7-e2177a896951",
   "metadata": {},
   "outputs": [],
   "source": []
  }
 ],
 "metadata": {
  "kernelspec": {
   "display_name": "Python 3 (ipykernel)",
   "language": "python",
   "name": "python3"
  },
  "language_info": {
   "codemirror_mode": {
    "name": "ipython",
    "version": 3
   },
   "file_extension": ".py",
   "mimetype": "text/x-python",
   "name": "python",
   "nbconvert_exporter": "python",
   "pygments_lexer": "ipython3",
   "version": "3.8.18"
  }
 },
 "nbformat": 4,
 "nbformat_minor": 5
}
